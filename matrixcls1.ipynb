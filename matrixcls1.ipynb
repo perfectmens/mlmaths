{
  "nbformat": 4,
  "nbformat_minor": 0,
  "metadata": {
    "colab": {
      "provenance": []
    },
    "kernelspec": {
      "name": "python3",
      "display_name": "Python 3"
    },
    "language_info": {
      "name": "python"
    }
  },
  "cells": [
    {
      "cell_type": "code",
      "execution_count": 1,
      "metadata": {
        "id": "2hcCvOhtox1n"
      },
      "outputs": [],
      "source": [
        "import numpy as np\n"
      ]
    },
    {
      "cell_type": "code",
      "source": [
        "matrix_1 = np.array([[12,34],[34,76]])\n",
        "print(matrix_1)"
      ],
      "metadata": {
        "colab": {
          "base_uri": "https://localhost:8080/"
        },
        "id": "55hPUD8cpU9l",
        "outputId": "5dac734a-0bd7-45f9-d06f-ff2698adb026"
      },
      "execution_count": 10,
      "outputs": [
        {
          "output_type": "stream",
          "name": "stdout",
          "text": [
            "[[12 34]\n",
            " [34 76]]\n"
          ]
        }
      ]
    },
    {
      "cell_type": "code",
      "source": [
        "\n",
        "matrix_1.shape"
      ],
      "metadata": {
        "colab": {
          "base_uri": "https://localhost:8080/"
        },
        "id": "ScLBvf4RpvHP",
        "outputId": "5e326c0e-57cd-4028-e717-57d67b6e6f43"
      },
      "execution_count": 11,
      "outputs": [
        {
          "output_type": "execute_result",
          "data": {
            "text/plain": [
              "(2, 2)"
            ]
          },
          "metadata": {},
          "execution_count": 11
        }
      ]
    },
    {
      "cell_type": "code",
      "source": [
        "matrix_2 = np.array([[1,2,3],[4,5,6],[7,8,9]])\n",
        "matrix_3 = np.random.rand(3,3)\n",
        "print(matrix_3)\n"
      ],
      "metadata": {
        "colab": {
          "base_uri": "https://localhost:8080/"
        },
        "id": "grhvcLDPqFcA",
        "outputId": "bca163cc-18ef-440d-c655-9e0820fbc39d"
      },
      "execution_count": 12,
      "outputs": [
        {
          "output_type": "stream",
          "name": "stdout",
          "text": [
            "[[0.26789922 0.47737754 0.52859322]\n",
            " [0.54700917 0.18813166 0.75849244]\n",
            " [0.08984874 0.97853331 0.70857558]]\n"
          ]
        }
      ]
    },
    {
      "cell_type": "code",
      "source": [
        "matrix_int = np.random.randint(10,size=(3,3))\n",
        "print(matrix_int)"
      ],
      "metadata": {
        "id": "KyPMpvhIrSSO",
        "outputId": "a4f66636-f066-434c-acec-10504eba7158",
        "colab": {
          "base_uri": "https://localhost:8080/"
        }
      },
      "execution_count": 17,
      "outputs": [
        {
          "output_type": "stream",
          "name": "stdout",
          "text": [
            "[[4 7 8]\n",
            " [4 6 8]\n",
            " [5 2 6]]\n"
          ]
        }
      ]
    },
    {
      "cell_type": "code",
      "source": [
        "print(matrix_2*matrix_int)"
      ],
      "metadata": {
        "id": "hFvQ3b_or1AP",
        "outputId": "1305306a-c5f5-4e9f-c184-860122503807",
        "colab": {
          "base_uri": "https://localhost:8080/"
        }
      },
      "execution_count": 18,
      "outputs": [
        {
          "output_type": "stream",
          "name": "stdout",
          "text": [
            "[[ 4 14 24]\n",
            " [16 30 48]\n",
            " [35 16 54]]\n"
          ]
        }
      ]
    },
    {
      "cell_type": "code",
      "source": [
        "matrix_4 = np.ones((2,3),dtype = int)\n",
        "print(matrix_4)"
      ],
      "metadata": {
        "id": "KaTILPZ7svwm",
        "outputId": "4a904750-071d-4b99-cb7c-ebe6dbef3402",
        "colab": {
          "base_uri": "https://localhost:8080/"
        }
      },
      "execution_count": 24,
      "outputs": [
        {
          "output_type": "stream",
          "name": "stdout",
          "text": [
            "[[1 1 1]\n",
            " [1 1 1]]\n"
          ]
        }
      ]
    },
    {
      "cell_type": "markdown",
      "source": [
        "**null matrix**"
      ],
      "metadata": {
        "id": "SI4SiALUtxjU"
      }
    },
    {
      "cell_type": "code",
      "source": [
        "null_matrix = np.zeros((3,4))\n",
        "print(null_matrix)"
      ],
      "metadata": {
        "id": "-LZkIS1vs5Cs",
        "outputId": "fbd4f942-52d3-469e-b304-8edbccaccc1e",
        "colab": {
          "base_uri": "https://localhost:8080/"
        }
      },
      "execution_count": 25,
      "outputs": [
        {
          "output_type": "stream",
          "name": "stdout",
          "text": [
            "[[0. 0. 0. 0.]\n",
            " [0. 0. 0. 0.]\n",
            " [0. 0. 0. 0.]]\n"
          ]
        }
      ]
    },
    {
      "cell_type": "markdown",
      "source": [
        "**identity matrix**"
      ],
      "metadata": {
        "id": "LK2UjEYPuRwS"
      }
    },
    {
      "cell_type": "code",
      "source": [
        "identity_matrix = np.eye(3,3)\n",
        "print(identity_matrix)"
      ],
      "metadata": {
        "id": "7RRgXHWFuMyC",
        "outputId": "c7ea0406-c079-43c7-8393-e4c135164605",
        "colab": {
          "base_uri": "https://localhost:8080/"
        }
      },
      "execution_count": 28,
      "outputs": [
        {
          "output_type": "stream",
          "name": "stdout",
          "text": [
            "[[1. 0. 0.]\n",
            " [0. 1. 0.]\n",
            " [0. 0. 1.]]\n"
          ]
        }
      ]
    },
    {
      "cell_type": "markdown",
      "source": [
        "**transpose of matrix**"
      ],
      "metadata": {
        "id": "wzRQ0CC_u7AG"
      }
    },
    {
      "cell_type": "code",
      "source": [
        "a = np.random.randint(100,size=(27,17))\n",
        "print(a)"
      ],
      "metadata": {
        "id": "GKp3Z73NuwsB",
        "outputId": "bdf84265-0568-4f7d-c51c-b0c14f177499",
        "colab": {
          "base_uri": "https://localhost:8080/"
        }
      },
      "execution_count": 30,
      "outputs": [
        {
          "output_type": "stream",
          "name": "stdout",
          "text": [
            "[[72 83 45 92 75 41 80 88 46 69 80 32 98 29 59 34 47]\n",
            " [96 60  0 62 47 83 11 53  8 86 61 11 17 90 71 53 16]\n",
            " [17 42 21  3 29 25 82  6 82 95 55 89 30 76 94 56 23]\n",
            " [17 33 68 84 98 77 80 35 89 65 95 91 32 51 33 25 40]\n",
            " [47 45 66 78  8 70 65 32 84 18 88 38 22 62 15 91 14]\n",
            " [87 32 41  2 52 37 65 18 45 61  5 47 15 12 57 89 12]\n",
            " [95 34 33 73 40 44 45 22 32 71 90  3 23 55 20 19  7]\n",
            " [78 18  5 86 34 84 44  3 99 99  9 28 61 19 66 63 69]\n",
            " [56  7 21 66 54 90 37 79  4 90 98 15  2 21 69  7 42]\n",
            " [39 56 47 99 68 83 21 85 78 69  6 68 66 20 93 34 64]\n",
            " [30 48 41 84 76 16 63 20  4 85 67 87 67 38 71 67 65]\n",
            " [96 83 11 22 39 17  7 58 75 45  2 56 13 80 97 57 59]\n",
            " [40 65 39 25 74 57 23 63 15 39 81 90 14 21 47 87 80]\n",
            " [78 93 17  8 16 32 43 14 65 66 74 52 54 27 12 21 77]\n",
            " [12 41 17 48 77 90 57 37 60 64 57 29 83 41 84 15 89]\n",
            " [54 64 34 21 73 25 24 40 37 78 90 24 18 88 85  4 11]\n",
            " [23 62 26 67 74 77 47  4 59 18 15 38 72 81 93 30 72]\n",
            " [ 0 43 91 33 57  7 19 30 35 77 53 37 61 89  3  9 91]\n",
            " [88 69 94 97 71 42 35 15 34 99 10 35 76 25 43 36 94]\n",
            " [65 80 30 11 49 39 66 48 94 59 20 80 24 74 48 20 38]\n",
            " [77 98 60 60 88 41 98 87 77 22 53 78 72 52 81 64 47]\n",
            " [57 83 92 46 79 77 14 84 49 54 93 29 78 97 34  0 31]\n",
            " [34 71 87 22 91 92  8 84 49 43 10  1 58 97 69 50 58]\n",
            " [95 31 92 73 20 94 17 72 86 14 98 49 87 46 70 80 93]\n",
            " [77 82 38  7  8 96 65 93  5 61 73 86 81  7  9 78 16]\n",
            " [48 26 42 72  7 51 13  9 64 49 57  5 71 70 41 36 92]\n",
            " [18 84 70  8 41 92 89 29 49 66 41  1 40 11 48 82 54]]\n"
          ]
        }
      ]
    },
    {
      "cell_type": "code",
      "source": [
        "b = np.transpose(a)\n",
        "print(b)"
      ],
      "metadata": {
        "id": "9w_nH984vP_k",
        "outputId": "a9716e4d-129e-4d61-bd3e-114384cc3228",
        "colab": {
          "base_uri": "https://localhost:8080/"
        }
      },
      "execution_count": 32,
      "outputs": [
        {
          "output_type": "stream",
          "name": "stdout",
          "text": [
            "[[72 96 17 17 47 87 95 78 56 39 30 96 40 78 12 54 23  0 88 65 77 57 34 95\n",
            "  77 48 18]\n",
            " [83 60 42 33 45 32 34 18  7 56 48 83 65 93 41 64 62 43 69 80 98 83 71 31\n",
            "  82 26 84]\n",
            " [45  0 21 68 66 41 33  5 21 47 41 11 39 17 17 34 26 91 94 30 60 92 87 92\n",
            "  38 42 70]\n",
            " [92 62  3 84 78  2 73 86 66 99 84 22 25  8 48 21 67 33 97 11 60 46 22 73\n",
            "   7 72  8]\n",
            " [75 47 29 98  8 52 40 34 54 68 76 39 74 16 77 73 74 57 71 49 88 79 91 20\n",
            "   8  7 41]\n",
            " [41 83 25 77 70 37 44 84 90 83 16 17 57 32 90 25 77  7 42 39 41 77 92 94\n",
            "  96 51 92]\n",
            " [80 11 82 80 65 65 45 44 37 21 63  7 23 43 57 24 47 19 35 66 98 14  8 17\n",
            "  65 13 89]\n",
            " [88 53  6 35 32 18 22  3 79 85 20 58 63 14 37 40  4 30 15 48 87 84 84 72\n",
            "  93  9 29]\n",
            " [46  8 82 89 84 45 32 99  4 78  4 75 15 65 60 37 59 35 34 94 77 49 49 86\n",
            "   5 64 49]\n",
            " [69 86 95 65 18 61 71 99 90 69 85 45 39 66 64 78 18 77 99 59 22 54 43 14\n",
            "  61 49 66]\n",
            " [80 61 55 95 88  5 90  9 98  6 67  2 81 74 57 90 15 53 10 20 53 93 10 98\n",
            "  73 57 41]\n",
            " [32 11 89 91 38 47  3 28 15 68 87 56 90 52 29 24 38 37 35 80 78 29  1 49\n",
            "  86  5  1]\n",
            " [98 17 30 32 22 15 23 61  2 66 67 13 14 54 83 18 72 61 76 24 72 78 58 87\n",
            "  81 71 40]\n",
            " [29 90 76 51 62 12 55 19 21 20 38 80 21 27 41 88 81 89 25 74 52 97 97 46\n",
            "   7 70 11]\n",
            " [59 71 94 33 15 57 20 66 69 93 71 97 47 12 84 85 93  3 43 48 81 34 69 70\n",
            "   9 41 48]\n",
            " [34 53 56 25 91 89 19 63  7 34 67 57 87 21 15  4 30  9 36 20 64  0 50 80\n",
            "  78 36 82]\n",
            " [47 16 23 40 14 12  7 69 42 64 65 59 80 77 89 11 72 91 94 38 47 31 58 93\n",
            "  16 92 54]]\n"
          ]
        }
      ]
    },
    {
      "cell_type": "code",
      "source": [],
      "metadata": {
        "id": "hIbvaa8xvdyW"
      },
      "execution_count": null,
      "outputs": []
    }
  ]
}