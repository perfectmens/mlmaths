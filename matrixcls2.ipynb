{
  "nbformat": 4,
  "nbformat_minor": 0,
  "metadata": {
    "colab": {
      "provenance": []
    },
    "kernelspec": {
      "name": "python3",
      "display_name": "Python 3"
    },
    "language_info": {
      "name": "python"
    }
  },
  "cells": [
    {
      "cell_type": "code",
      "execution_count": null,
      "metadata": {
        "id": "UfEhODS4wV6x"
      },
      "outputs": [],
      "source": [
        "import numpy as np"
      ]
    },
    {
      "cell_type": "markdown",
      "source": [
        "**matrix addition**"
      ],
      "metadata": {
        "id": "pVr4eZzvy2NG"
      }
    },
    {
      "cell_type": "code",
      "source": [
        "# 2x2 matrix addition\n",
        "a = np.array([[1, 2], [3, 4]])\n",
        "b = np.array([[5, 6], [7, 8]])\n",
        "\n",
        "print(np.add(a, b))\n"
      ],
      "metadata": {
        "colab": {
          "base_uri": "https://localhost:8080/"
        },
        "id": "SYyU5vxHwcml",
        "outputId": "20848ec3-1632-43a9-cc7b-a8583ff641de"
      },
      "execution_count": null,
      "outputs": [
        {
          "output_type": "stream",
          "name": "stdout",
          "text": [
            "[[ 6  8]\n",
            " [10 12]]\n"
          ]
        }
      ]
    },
    {
      "cell_type": "code",
      "source": [
        "# 2*3 matrix addition\n",
        "\n",
        "a = np.array([[1, 2, 3], [3, 4, 5]])\n",
        "b = np.array([[5, 6, 7], [7, 8, 9]])\n",
        "\n",
        "print(np.add(a, b))\n"
      ],
      "metadata": {
        "colab": {
          "base_uri": "https://localhost:8080/"
        },
        "id": "DEwn3eEpyUHo",
        "outputId": "6c5960fd-53fa-4e4d-cb96-8291685a36e6"
      },
      "execution_count": null,
      "outputs": [
        {
          "output_type": "stream",
          "name": "stdout",
          "text": [
            "[[ 6  8 10]\n",
            " [10 12 14]]\n"
          ]
        }
      ]
    },
    {
      "cell_type": "markdown",
      "source": [
        "**matrix subration**"
      ],
      "metadata": {
        "id": "pkM09Kyty85S"
      }
    },
    {
      "cell_type": "code",
      "source": [
        "\n",
        "# 2x2 matrix subtraction\n",
        "a = np.array([[1, 2], [3, 4]])\n",
        "b = np.array([[5, 6], [7, 8]])\n",
        "\n",
        "print(np.subtract(a, b))\n",
        "\n",
        "# 2*3 matrix subtraction\n",
        "a = np.array([[1, 2, 3], [3, 4, 5]])\n",
        "b = np.array([[5, 6, 7], [7, 8, 9]])\n",
        "\n",
        "print(np.subtract(a, b))\n"
      ],
      "metadata": {
        "colab": {
          "base_uri": "https://localhost:8080/"
        },
        "id": "s7nMXK4byyes",
        "outputId": "b7ca2afa-8d61-4e8b-f765-b1fa5099113b"
      },
      "execution_count": null,
      "outputs": [
        {
          "output_type": "stream",
          "name": "stdout",
          "text": [
            "[[-4 -4]\n",
            " [-4 -4]]\n",
            "[[-4 -4 -4]\n",
            " [-4 -4 -4]]\n"
          ]
        }
      ]
    },
    {
      "cell_type": "markdown",
      "source": [
        "**matrix multipication with scalar**"
      ],
      "metadata": {
        "id": "j8P0AXzyzgKP"
      }
    },
    {
      "cell_type": "code",
      "source": [
        "\n",
        "\n",
        "# Define a 2x2 matrix\n",
        "matrix = np.array([[1, 2], [3, 4]])\n",
        "\n",
        "# Define a scalar\n",
        "scalar = 5\n",
        "\n",
        "# Multiply the matrix by the scalar\n",
        "result = matrix * scalar\n",
        "\n",
        "# Print the result\n",
        "print(result)\n"
      ],
      "metadata": {
        "colab": {
          "base_uri": "https://localhost:8080/"
        },
        "id": "AZfIW6dczT_N",
        "outputId": "4d86128e-cbab-4878-d003-e890481837c3"
      },
      "execution_count": 8,
      "outputs": [
        {
          "output_type": "stream",
          "name": "stdout",
          "text": [
            "[[ 5 10]\n",
            " [15 20]]\n"
          ]
        }
      ]
    },
    {
      "cell_type": "markdown",
      "source": [
        "**matrix division**"
      ],
      "metadata": {
        "id": "PqYA2X-szzCt"
      }
    },
    {
      "cell_type": "code",
      "source": [
        "\n",
        "\n",
        "# **Matrix division with scalar**\n",
        "\n",
        "# Define a 2x2 matrix\n",
        "matrix = np.array([[1, 2], [3, 4]])\n",
        "\n",
        "# Define a scalar\n",
        "scalar = 5\n",
        "\n",
        "# Divide the matrix by the scalar\n",
        "result = matrix / scalar\n",
        "\n",
        "# Print the result\n",
        "print(result)\n"
      ],
      "metadata": {
        "colab": {
          "base_uri": "https://localhost:8080/"
        },
        "id": "Ln_pWkBBzqPZ",
        "outputId": "d67bfd80-17a7-4235-acef-8a44519d400c"
      },
      "execution_count": 9,
      "outputs": [
        {
          "output_type": "stream",
          "name": "stdout",
          "text": [
            "[[0.2 0.4]\n",
            " [0.6 0.8]]\n"
          ]
        }
      ]
    }
  ]
}